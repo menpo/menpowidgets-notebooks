{
 "cells": [
  {
   "cell_type": "markdown",
   "metadata": {},
   "source": [
    "# MenpoWidgets"
   ]
  },
  {
   "cell_type": "markdown",
   "metadata": {},
   "source": [
    "Welcome to [MenpoWidgets](https://github.com/menpo/menpowidgets) - the package for fancy visualisation of [Menpo](http://www.menpo.org/) objects based on [Jupyter](http://jupyter.org/)."
   ]
  },
  {
   "cell_type": "markdown",
   "metadata": {},
   "source": [
    "### 1. Widgets Structure\n",
    "\n",
    "_MenpoWidgets_ can be separated into a 3-level hierarchy:\n",
    "\n",
    "1. **`menpowidgets.base`**, **`menpowidgets.menpofit.base`**: These are the end user widget functions and the only ones that are exposed at the highest level of `menpowidgets`. \n",
    "2. **`menpowidgets.options`**, **`menpowidgets.menpofit.options`**: These are classes that implement widgets for selecting various options, such as rendering options, landmark options, channels options etc. They can be seen as the main components of all top level widgets.\n",
    "3. **`menpowidgets.tools`**: These are classes that implement lower level widget functionalities, such as colour selection, zoom options, axes options, etc. They are the main ingredients of the main widget components of the previous level."
   ]
  },
  {
   "cell_type": "markdown",
   "metadata": {},
   "source": [
    "### 2. Trait and render callback\n",
    "\n",
    "All our widgets are subclasses of **`menpowidgets.abstract.MenpoWidget`** which is an `ipywidgets.FlexBox`. Thus all our widgets have the following functionalities:\n",
    "\n",
    "* An additional `trait` named **`selected_values`** is added, which is monitoring any change that takes place in the widget and which should trigger a rendering function. The type of the trait can vary among widgets (e.g. `Int`, `Dict`, etc.) and its role is to store the selected values of the various widget components. \n",
    "* The rendering function is passed in as the **`render_function`** argument.\n",
    "* There are 4 basic methods on each widget:\n",
    "  - **`add_render_function()`**: It attaches a new rendering function as callback to the `selected_values` `trait`.\n",
    "  - **`remove_render_function()`**: It removes the current rendering function callback.\n",
    "  - **`replace_render_function()`**: It replaces the current rendering function callback with a new one.\n",
    "  - **`call_render_function()`**: It triggers the attached rendering function.\n",
    "  > Note that `render_function()` must have the following signature:\n",
    "    ```python\n",
    "    input_dict = {'type': 'change', 'name': type_value, 'owner': '', \n",
    "                  'old': old_value, 'new': new_value}\n",
    "    render_function(input_dict)\n",
    "    ```\n",
    "\n",
    "\n",
    "\n",
    "\n"
   ]
  },
  {
   "cell_type": "markdown",
   "metadata": {},
   "source": [
    "### 3. Styling and set state\n",
    "\n",
    "Additionally, all widgets have the following functions:\n",
    "* **`set_widget_state()`**: It updates the widget state with a new set of options (i.e., `selected_values`). It has an `allow_callback` argument that defines whether the render function is allowed to be triggered if required.\n",
    "* **`style()`**: It takes a set of options that change the style of the widget, such as font-related options, border-related options, etc.\n",
    "* **`predefined_style()`**: It sets some predefined styles (themes) on the widget. Possible options are `'minimal'`, `'success'`, `'info'`, `'warning'` and `'danger'`."
   ]
  }
 ],
 "metadata": {
  "kernelspec": {
   "display_name": "Python 3",
   "language": "python",
   "name": "python3"
  },
  "language_info": {
   "codemirror_mode": {
    "name": "ipython",
    "version": 3
   },
   "file_extension": ".py",
   "mimetype": "text/x-python",
   "name": "python",
   "nbconvert_exporter": "python",
   "pygments_lexer": "ipython3",
   "version": "3.4.4"
  }
 },
 "nbformat": 4,
 "nbformat_minor": 0
}
