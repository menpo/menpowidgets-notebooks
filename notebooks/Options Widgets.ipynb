{
 "cells": [
  {
   "cell_type": "markdown",
   "metadata": {},
   "source": [
    "# Options Widgets\n",
    "\n",
    "Herein, we present the widgets that can be used as components in order to assemble higher level widgets, such as the ones presented in _Main Widgets.ipynb_. Those widgets live in `menpowidgets.options` and `menpowidgets.menpofit.options`. Specifically we split this notebook in the following subsections:\n",
    "\n",
    "1. [__Basics__](#sec:basics)\n",
    "2. [__Widgets with Memory__](#sec:mnemonic)\n",
    "3. [__Animation Options__](#sec:animation)\n",
    "4. [__Channels Options__](#sec:channels)\n",
    "5. [__Patches Options__](#sec:patches)\n",
    "6. [__Landmarks Options__](#sec:landmarks)\n",
    "7. [__Renderer Options__](#sec:renderer)\n",
    "8. [__Plot Options__](#sec:plot)\n",
    "9. [__Linear Model Parameters__](#sec:parameters)\n",
    "10. [__Result Options__](#sec:result)\n",
    "11. [__Iterative Result Options__](#sec:iterative_result)\n",
    "12. [__Text Print__](#sec:text)\n",
    "13. [__Feature Options__](#sec:features)\n",
    "14. [__Save Figure Options__](#sec:save)"
   ]
  },
  {
   "cell_type": "markdown",
   "metadata": {},
   "source": [
    "## <a name=\"sec:basics\"></a>1. Basics\n",
    "As explained in the _Introduction.ipynb_ notebook and similar to the _Widgets Tools.ipynb_, all the widgets presented here are subclasses of `menpo.abstract.MenpoWidget`, thus they follow the same rules, which are:\n",
    "\n",
    "* They expect as input the rendering callback function.\n",
    "* They implement `add_render_function()`, `remove_render_function()`, `replace_render_function()` and `call_render_function()`.\n",
    "* They implement `set_widget_state()`, which updates the widget state with the properties of a new object.\n",
    "* They implement `style()` which takes a set of options that change the style of the widget, such as font-related options, border-related options, etc.\n",
    "\n",
    "The only difference from the widgets in `menpowidgets.tools` (explained in  _Widgets Tools.ipynb_) is that these widgets also implement: \n",
    "* `predefined_style()` which sets a predefined theme on the widget. Possible themes are `'minimal'`, `'success'`, `'info'`, `'warning'` and `'danger'`."
   ]
  },
  {
   "cell_type": "markdown",
   "metadata": {},
   "source": [
    "## <a name=\"sec:basics\"></a>2. Widgets with Memory\n",
    "All the widgets of this notebook have memory. Specifically, _they have the ability to recognize objects with the same properties and use the same options._ This becomes more clear in the _Main Widgets.ipynb_ notebook.\n",
    "\n",
    "However, in order to make this more clear, assume the following simplistic scenario:\n",
    "\n",
    "> Assume that we have a set of images to render. We are using a widget that allows us to browse through the image objects, one at a time (e.g. [`AnimationOptionsWidget`](#sec:animation)), as well as a widget for selecting options regarding their channels (i.e. [`ChannelOptionsWidget`](#sec:channels)). Everytime we get a new object, we need to use some rendering options. However, it is not possible to use the options from the previous object because they may not apply on the current one due to different properties. Therefore, the widget is smart enough to encode the image objects based on their properties (i.e. `n_channels`, `is_masked`) and if the current object category is seen before, then the corresponding selected options are applied. Otherwise, if the current object is not seen before, then it gets assigned some default options.\n",
    "\n",
    "The above description means that the widgets remember the options that correspond to object categories and augment their memory as more new obects come in."
   ]
  },
  {
   "cell_type": "markdown",
   "metadata": {},
   "source": [
    "Before presenting each widget separately, let's first import the things that are required."
   ]
  },
  {
   "cell_type": "code",
   "execution_count": 1,
   "metadata": {
    "collapsed": false
   },
   "outputs": [],
   "source": [
    "from menpowidgets.options import (AnimationOptionsWidget, ChannelOptionsWidget, PatchOptionsWidget, \n",
    "                                  LandmarkOptionsWidget, RendererOptionsWidget, PlotOptionsWidget, \n",
    "                                  LinearModelParametersWidget, TextPrintWidget, FeatureOptionsWidget, \n",
    "                                  SaveFigureOptionsWidget)\n",
    "from menpowidgets.menpofit.options import ResultOptionsWidget, IterativeResultOptionsWidget\n",
    "from menpo.visualize import print_dynamic"
   ]
  },
  {
   "cell_type": "markdown",
   "metadata": {},
   "source": [
    "## <a name=\"sec:animation\"></a>3. Animation Options\n",
    "\n",
    "The aim of this widget is to allow the user to browse through a set of objects (e.g. images, shapes, etc.). Thus, it provides the ability to select an index by some controllers (e.g. slider or buttons). It also provides the ability to play an animation of the objects. The functionality of the buttons is the following:\n",
    "> <i class=\"fa fa-plus\"></i>  Next object.<br>\n",
    "  <i class=\"fa fa-minus\"></i>  Previous object.<br>\n",
    "  <i class=\"fa fa-play\"></i>  Start the animation playback.<br>\n",
    "  <i class=\"fa fa-stop\"></i>  Stop the animation playback.<br>\n",
    "  <i class=\"fa fa-fast-forward\"></i>  Increase the animation's speed.<br>\n",
    "  <i class=\"fa fa-fast-backward\"></i>  Decrease the animation's speed.<br>\n",
    "  <i class=\"fa fa-repeat\"></i>  Repeat mode is enabled.<br>\n",
    "  <i class=\"fa fa-long-arrow-right\"></i>  Repeat mode is disabled.\n",
    "\n",
    "The initial options are defined as a `dict`. We also define a `render_function()` that prints the selected options."
   ]
  },
  {
   "cell_type": "code",
   "execution_count": 2,
   "metadata": {
    "collapsed": false
   },
   "outputs": [
    {
     "name": "stdout",
     "output_type": "stream",
     "text": [
      "This is the new function. Index = 8                                             "
     ]
    }
   ],
   "source": [
    "# Initial options\n",
    "index = {'min': 0, \n",
    "         'max': 100, \n",
    "         'step': 1, \n",
    "         'index': 10}\n",
    "\n",
    "# Render function\n",
    "def render_function(change):\n",
    "    print_dynamic('{}'.format(change['new']))\n",
    "\n",
    "# Create widget\n",
    "anim_wid = AnimationOptionsWidget(index, \n",
    "                                  index_style='buttons', \n",
    "                                  render_function=render_function, \n",
    "                                  style='info')\n",
    "\n",
    "# Display widget\n",
    "anim_wid"
   ]
  },
  {
   "cell_type": "markdown",
   "metadata": {},
   "source": [
    "We can replace the `render_function()` with a new one as follows:"
   ]
  },
  {
   "cell_type": "code",
   "execution_count": 3,
   "metadata": {
    "collapsed": true
   },
   "outputs": [],
   "source": [
    "def new_render_function(change):\n",
    "    print_dynamic('This is the new function. Index = {}'.format(anim_wid.selected_values))\n",
    "anim_wid.replace_render_function(new_render_function)"
   ]
  },
  {
   "cell_type": "markdown",
   "metadata": {},
   "source": [
    "The style of the widget can also be changed to a predefined theme"
   ]
  },
  {
   "cell_type": "code",
   "execution_count": 4,
   "metadata": {
    "collapsed": true
   },
   "outputs": [],
   "source": [
    "anim_wid.predefined_style('warning')"
   ]
  },
  {
   "cell_type": "markdown",
   "metadata": {},
   "source": [
    "Finally, the options of the widget can be updated by using the ``set_widget_state()` function as"
   ]
  },
  {
   "cell_type": "code",
   "execution_count": 5,
   "metadata": {
    "collapsed": false
   },
   "outputs": [],
   "source": [
    "anim_wid.set_widget_state({'min': 0, 'max': 20, 'step': 2, 'index': 16}, \n",
    "                          allow_callback=False)"
   ]
  },
  {
   "cell_type": "markdown",
   "metadata": {},
   "source": [
    "## <a name=\"sec:channels\"></a>4. Channels Options\n",
    "\n",
    "The aim of this widget is to allow the user to select options related to the channels of an `Image`. \n",
    "\n",
    "It is assumed that an `Image` object is uniquely described by the following properties:\n",
    "1. `n_channels`: The `Image`'s number of channels.\n",
    "2. `image_is_masked`: ``True`` if the object is a `MaskedImage`. \n",
    "\n",
    "Let us define a `render_function()` that prints the selected channels to be visualized along with the `masked_enabled` and `glyph_enabled` flags and create the widget."
   ]
  },
  {
   "cell_type": "code",
   "execution_count": 6,
   "metadata": {
    "collapsed": false
   },
   "outputs": [
    {
     "name": "stdout",
     "output_type": "stream",
     "text": [
      "Channels: [0]. Gryph: True. Masked: True                                        "
     ]
    }
   ],
   "source": [
    "# Render function\n",
    "def render_function(change):\n",
    "    s = \"Channels: {}. Gryph: {}. Masked: {}\".format(change['new']['channels'],\n",
    "                                                     change['new']['glyph_enabled'],\n",
    "                                                     change['new']['masked_enabled'])\n",
    "    print_dynamic(s)\n",
    "\n",
    "# Create widget\n",
    "chan_wid = ChannelOptionsWidget(n_channels=3, image_is_masked=True, \n",
    "                                render_function=render_function, style='danger')\n",
    "\n",
    "# Display widget\n",
    "chan_wid"
   ]
  },
  {
   "cell_type": "markdown",
   "metadata": {},
   "source": [
    "The state of the widget can be updated for a new `Image` object as"
   ]
  },
  {
   "cell_type": "code",
   "execution_count": 7,
   "metadata": {
    "collapsed": false
   },
   "outputs": [
    {
     "name": "stdout",
     "output_type": "stream",
     "text": [
      "\r",
      "Channels: [0]. Gryph: False. Masked: True                                       "
     ]
    }
   ],
   "source": [
    "chan_wid.set_widget_state(n_channels=36, image_is_masked=True, allow_callback=True)"
   ]
  },
  {
   "cell_type": "markdown",
   "metadata": {},
   "source": [
    "The widget has the ability to remember the image categories that it has already seen by creating a key name based on the properties. The key has the format:\n",
    "```python\n",
    "'{}_{}'.format(n_channels, image_is_masked)\n",
    "```\n",
    "Consequently, until now, the objects that the widget has seen with their corresponding options are: "
   ]
  },
  {
   "cell_type": "code",
   "execution_count": 8,
   "metadata": {
    "collapsed": false
   },
   "outputs": [
    {
     "data": {
      "text/plain": [
       "{'36_True': {'channels': [0],\n",
       "  'glyph_block_size': 3,\n",
       "  'glyph_enabled': True,\n",
       "  'glyph_use_negative': False,\n",
       "  'masked_enabled': True,\n",
       "  'sum_enabled': False},\n",
       " '3_True': {'channels': None,\n",
       "  'glyph_block_size': 3,\n",
       "  'glyph_enabled': False,\n",
       "  'glyph_use_negative': False,\n",
       "  'masked_enabled': False,\n",
       "  'sum_enabled': False}}"
      ]
     },
     "execution_count": 8,
     "metadata": {},
     "output_type": "execute_result"
    }
   ],
   "source": [
    "chan_wid.default_options"
   ]
  },
  {
   "cell_type": "markdown",
   "metadata": {},
   "source": [
    "When an unseen object is passed in, then the widget automatically assigns the following default options:"
   ]
  },
  {
   "cell_type": "code",
   "execution_count": 9,
   "metadata": {
    "collapsed": false
   },
   "outputs": [
    {
     "data": {
      "text/plain": [
       "{'channels': [0],\n",
       " 'glyph_block_size': 3,\n",
       " 'glyph_enabled': False,\n",
       " 'glyph_use_negative': False,\n",
       " 'masked_enabled': False,\n",
       " 'sum_enabled': False}"
      ]
     },
     "execution_count": 9,
     "metadata": {},
     "output_type": "execute_result"
    }
   ],
   "source": [
    "chan_wid.get_default_options(n_channels=100, image_is_masked=False)"
   ]
  },
  {
   "cell_type": "markdown",
   "metadata": {},
   "source": [
    "## <a name=\"sec:patches\"></a>5. Patches Options\n",
    "The `PatchOptionsWidget` allows the selection of patches-related options, e.g. patches slicing, bounding boxes rendering, black/white background colour etc. It assumes that a patch-based image is uniquely defined by the following properties:\n",
    "* `n_patches`: The number of patches.\n",
    "* `n_offsets`: The number of offsets per patch.\n",
    "\n",
    "Similar to the `ChannelOptionsWidget`, it has memory of the objects it has seen by assigning them a key of the following format:\n",
    "```python\n",
    "'{}_{}'.format(n_patches, n_offsets)\n",
    "```\n",
    "For example"
   ]
  },
  {
   "cell_type": "code",
   "execution_count": 10,
   "metadata": {
    "collapsed": false
   },
   "outputs": [
    {
     "name": "stdout",
     "output_type": "stream",
     "text": [
      "Patches: [0, 1, 2, 3, 4, 5, 6, 7, 8, 9, 10, 11, 12, 13, 14, 15, 16, 17, 18, 19, 20, 21, 22, 23, 24, 25, 26, 27, 28, 29, 30, 31, 32, 33, 34, 35, 36, 37, 38, 39, 40, 41, 42, 43, 44, 45, 46, 47, 48]. Offset: 0. Background: white. BBoxes: True. Centers: False"
     ]
    }
   ],
   "source": [
    "# Rnder function\n",
    "def render_function(change):\n",
    "    s = \"Patches: {}. Offset: {}. Background: {}. BBoxes: {}. Centers: {}\".format(\n",
    "        pat_wid.selected_values['patches_indices'], pat_wid.selected_values['offset_index'], \n",
    "        pat_wid.selected_values['background'], pat_wid.selected_values['render_patches_bboxes'],\n",
    "        pat_wid.selected_values['render_centers'])\n",
    "    print_dynamic(s)\n",
    "\n",
    "# Create widget\n",
    "pat_wid = PatchOptionsWidget(n_patches=68, n_offsets=3, render_function=render_function, style='info')\n",
    "pat_wid"
   ]
  },
  {
   "cell_type": "markdown",
   "metadata": {},
   "source": [
    "The options for a new object can be defined as:"
   ]
  },
  {
   "cell_type": "code",
   "execution_count": 11,
   "metadata": {
    "collapsed": false
   },
   "outputs": [
    {
     "name": "stdout",
     "output_type": "stream",
     "text": [
      "\r",
      "Patches: [0, 1, 2, 3, 4, 5, 6, 7, 8, 9, 10, 11, 12, 13, 14, 15, 16, 17, 18, 19, 20, 21, 22, 23, 24, 25, 26, 27, 28, 29, 30, 31, 32, 33, 34, 35, 36, 37, 38, 39, 40, 41, 42, 43, 44, 45, 46, 47, 48]. Offset: 0. Background: white. BBoxes: True. Centers: True"
     ]
    }
   ],
   "source": [
    "pat_wid.set_widget_state(n_patches=49, n_offsets=1, allow_callback=True)"
   ]
  },
  {
   "cell_type": "markdown",
   "metadata": {},
   "source": [
    "Thus, until now the widget remembers the following objects:"
   ]
  },
  {
   "cell_type": "code",
   "execution_count": 12,
   "metadata": {
    "collapsed": false
   },
   "outputs": [
    {
     "name": "stdout",
     "output_type": "stream",
     "text": [
      "{'68_3': {'render_centers': False, 'bboxes_line_colour': ['red'], 'bboxes_line_style': '-', 'offset_index': 0, 'patches_indices': [0, 1, 2, 3, 4, 5, 6, 7, 8, 9, 10, 11, 12, 13, 14, 15, 16, 17, 18, 19, 20, 21, 22, 23, 24, 25, 26, 27, 28, 29, 30, 31, 32, 33, 34, 35, 36, 37, 38, 39, 40, 41, 42, 43, 44, 45, 46, 47, 48, 49, 50, 51, 52, 53, 54, 55, 56, 57, 58, 59, 60, 61, 62, 63, 64, 65, 66, 67], 'background': 'white', 'bboxes_line_width': 1, 'render_patches_bboxes': True, 'render_patches': True}, '49_1': {'render_centers': False, 'bboxes_line_colour': ['red'], 'bboxes_line_style': '-', 'offset_index': 0, 'patches_indices': [0, 1, 2, 3, 4, 5, 6, 7, 8, 9, 10, 11, 12, 13, 14, 15, 16, 17, 18, 19, 20, 21, 22, 23, 24, 25, 26, 27, 28, 29, 30, 31, 32, 33, 34, 35, 36, 37, 38, 39, 40, 41, 42, 43, 44, 45, 46, 47, 48], 'background': 'white', 'bboxes_line_width': 1, 'render_patches_bboxes': True, 'render_patches': True}}\n"
     ]
    }
   ],
   "source": [
    "print(pat_wid.default_options)"
   ]
  },
  {
   "cell_type": "markdown",
   "metadata": {},
   "source": [
    "Note that if I pass in an object of the same category as the first one, then it gets the options we had selected and the memory `dict` does not chage:"
   ]
  },
  {
   "cell_type": "code",
   "execution_count": 13,
   "metadata": {
    "collapsed": false
   },
   "outputs": [
    {
     "name": "stdout",
     "output_type": "stream",
     "text": [
      "Objects in memory (before): 2\n",
      "Patches: [0, 1, 2, 3, 4, 5, 6, 7, 8, 9, 10, 11, 12, 13, 14, 15, 16, 17, 18, 19, 20, 21, 22, 23, 24, 25, 26, 27, 28, 29, 30, 31, 32, 33, 34, 35, 36, 37, 38, 39, 40, 41, 42, 43, 44, 45, 46, 47, 48, 49, 50, 51, 52, 53, 54, 55, 56, 57, 58, 59, 60, 61, 62, 63, 64, 65, 66, 67]. Offset: 0. Background: white. BBoxes: True. Centers: False\n",
      "Objects in memory (after): 2\n"
     ]
    }
   ],
   "source": [
    "print('Objects in memory (before): {}'.format(len(pat_wid.default_options)))\n",
    "pat_wid.set_widget_state(n_patches=68, n_offsets=3)\n",
    "print('\\nObjects in memory (after): {}'.format(len(pat_wid.default_options)))"
   ]
  },
  {
   "cell_type": "markdown",
   "metadata": {},
   "source": [
    "The default options that get assigned to an unseen object are:"
   ]
  },
  {
   "cell_type": "code",
   "execution_count": 14,
   "metadata": {
    "collapsed": false
   },
   "outputs": [
    {
     "data": {
      "text/plain": [
       "{'background': 'white',\n",
       " 'bboxes_line_colour': ['red'],\n",
       " 'bboxes_line_style': '-',\n",
       " 'bboxes_line_width': 1,\n",
       " 'offset_index': 0,\n",
       " 'patches_indices': [0, 1],\n",
       " 'render_centers': True,\n",
       " 'render_patches': True,\n",
       " 'render_patches_bboxes': True}"
      ]
     },
     "execution_count": 14,
     "metadata": {},
     "output_type": "execute_result"
    }
   ],
   "source": [
    "pat_wid.get_default_options(n_patches=2, n_offsets=20)"
   ]
  },
  {
   "cell_type": "markdown",
   "metadata": {},
   "source": [
    "## <a name=\"sec:landmarks\"></a>6. Landmarks Options\n",
    "\n",
    "The `LandmarkOptionsWidget` allows the selection of landmarks-related options, e.g. group, labels etc. It assumes that an object with landmarks (`LandmarkManager`) is uniquely defined by the following properties:\n",
    "* `group_keys`: The `list` of `LandmarkGroup` names.\n",
    "* `labels_keys`: A `list` with the `list` of labels per `LandmarkGroup`.\n",
    "\n",
    "Of course, it has memory of the objects it has seen by assigning them a key of the following format:\n",
    "```python\n",
    "\"{}_{}\".format(group_keys, labels_keys)\n",
    "```\n",
    "Let us define a rendering callback function and create the widget:"
   ]
  },
  {
   "cell_type": "code",
   "execution_count": 15,
   "metadata": {
    "collapsed": false
   },
   "outputs": [
    {
     "name": "stdout",
     "output_type": "stream",
     "text": [
      "Render: False. Group: ibug_face_68. Labels: ['jaw', 'eye'].                     "
     ]
    }
   ],
   "source": [
    "# Render function\n",
    "def render_function(change):\n",
    "    s = \"Group: {}. Labels: {}.\".format(land_wid.selected_values['group'], land_wid.selected_values['with_labels'])\n",
    "    print_dynamic(s)\n",
    "\n",
    "# Initial object's properties\n",
    "group_keys = ['PTS', 'ibug_face_68']\n",
    "labels_keys = [['all'], ['jaw', 'eye']]\n",
    "    \n",
    "# Create widget\n",
    "land_wid = LandmarkOptionsWidget(group_keys, labels_keys, render_function=render_function, style='success')\n",
    "\n",
    "# Display widget\n",
    "land_wid"
   ]
  },
  {
   "cell_type": "markdown",
   "metadata": {},
   "source": [
    "Let's replace the render function:"
   ]
  },
  {
   "cell_type": "code",
   "execution_count": 17,
   "metadata": {
    "collapsed": true
   },
   "outputs": [],
   "source": [
    "def render_function(change):\n",
    "    s = \"Render: {}. Group: {}. Labels: {}.\".format(land_wid.selected_values['render_landmarks'], \n",
    "                                                    land_wid.selected_values['group'], \n",
    "                                                    land_wid.selected_values['with_labels'])\n",
    "    print_dynamic(s)\n",
    "land_wid.replace_render_function(render_function)"
   ]
  },
  {
   "cell_type": "markdown",
   "metadata": {},
   "source": [
    "Now, let's assume we have a new `LandmarkManager` object:"
   ]
  },
  {
   "cell_type": "code",
   "execution_count": 18,
   "metadata": {
    "collapsed": false
   },
   "outputs": [
    {
     "name": "stdout",
     "output_type": "stream",
     "text": [
      "\r",
      "Render: True. Group: PTS. Labels: ['all'].                                      "
     ]
    }
   ],
   "source": [
    "land_wid.set_widget_state(group_keys=['PTS', 'other'], labels_keys=[['all'], ['land', 'marks']], \n",
    "                          allow_callback=True)"
   ]
  },
  {
   "cell_type": "markdown",
   "metadata": {},
   "source": [
    "Once again, the objects that the widget has seen until now can be retrieved as"
   ]
  },
  {
   "cell_type": "code",
   "execution_count": 19,
   "metadata": {
    "collapsed": false
   },
   "outputs": [
    {
     "data": {
      "text/plain": [
       "{\"['PTS', 'ibug_face_68']_[['all'], ['jaw', 'eye']]\": {'group': 'ibug_face_68',\n",
       "  'render_landmarks': False,\n",
       "  'with_labels': ['jaw', 'eye']},\n",
       " \"['PTS', 'other']_[['all'], ['land', 'marks']]\": {'group': 'PTS',\n",
       "  'render_landmarks': True,\n",
       "  'with_labels': ['all']}}"
      ]
     },
     "execution_count": 19,
     "metadata": {},
     "output_type": "execute_result"
    }
   ],
   "source": [
    "land_wid.default_options"
   ]
  },
  {
   "cell_type": "markdown",
   "metadata": {},
   "source": [
    "whereas the default options that an unseen object gets assigned are:"
   ]
  },
  {
   "cell_type": "code",
   "execution_count": 20,
   "metadata": {
    "collapsed": false
   },
   "outputs": [
    {
     "data": {
      "text/plain": [
       "{'group': 'new', 'render_landmarks': True, 'with_labels': ['object']}"
      ]
     },
     "execution_count": 20,
     "metadata": {},
     "output_type": "execute_result"
    }
   ],
   "source": [
    "land_wid.get_default_options(group_keys=['new'], labels_keys=[['object']])"
   ]
  },
  {
   "cell_type": "markdown",
   "metadata": {},
   "source": [
    "The predefined style of the widget can be changed at any time as:"
   ]
  },
  {
   "cell_type": "code",
   "execution_count": 21,
   "metadata": {
    "collapsed": true
   },
   "outputs": [],
   "source": [
    "land_wid.predefined_style('warning')"
   ]
  },
  {
   "cell_type": "markdown",
   "metadata": {},
   "source": [
    "## <a name=\"sec:renderer\"></a>7. Renderer Options\n",
    "\n",
    "The `RendererOptionsWidget` allows the selection of generic rendering options related to lines, markers, axes, legend, etc. It is a very powerful and flexible widget and it makes it very easy to select its parts. Its contructor requires two arguments:\n",
    "\n",
    "* `options_tabs`: It is a `list` that defines the nature as well as the ordering of the tabs of the widget. It can get the following values:\n",
    "\n",
    "| Value           | Returned widget          | Description       |\n",
    "| --------------- |:------------------------ | :---------------- |\n",
    "| ``'lines'``     | `LineOptionsWidget`      | Lines options     |\n",
    "| ``'markers'``   | `MarkerOptionsWidget`    | Markers options   |\n",
    "| ``'numbering'`` | `NumberingOptionsWidget` | Numbering options |\n",
    "| ``'zoom_one'``  | `ZoomOneScaleWidget`     | Single Zoom       |\n",
    "| ``'zoom_two'``  | `ZoomTwoScalesWidget`    | Zoom per axis     |\n",
    "| ``'legend'``    | `LegendOptionsWidget`    | Legend options    |\n",
    "| ``'grid'``      | `GridOptionsWidget`      | Grid options      |\n",
    "| ``'image'``     | `ImageOptionsWidget`     | Image options     |\n",
    "| ``'axes'``      | `AxesOptionsWidget`      | Axes options      |\n",
    "\n",
    "* `labels`: This is a `list` that uniquely defines each new object. Thus, the unique keys that define the object categories have the format:\n",
    "```python\n",
    "\"{}\".format(labels)\n",
    "```\n",
    "\n",
    "Let us define the `options_tabs`, as well as the labels parameters. The render function will be printing all the selected options."
   ]
  },
  {
   "cell_type": "code",
   "execution_count": 22,
   "metadata": {
    "collapsed": true
   },
   "outputs": [],
   "source": [
    "# Widget's tabs\n",
    "options_tabs = ['lines', 'markers', 'numbering', 'zoom_one', 'axes']\n",
    "\n",
    "# Initial object's labels\n",
    "labels = ['hello', 'world']\n",
    "\n",
    "# Render function\n",
    "def render_function(change):\n",
    "    print(change['new'])"
   ]
  },
  {
   "cell_type": "markdown",
   "metadata": {},
   "source": [
    "Let's now create and display the widget:"
   ]
  },
  {
   "cell_type": "code",
   "execution_count": 23,
   "metadata": {
    "collapsed": false
   },
   "outputs": [
    {
     "name": "stdout",
     "output_type": "stream",
     "text": [
      "{'lines': {'line_width': 1.0, 'line_colour': ['#00007f', '#7cff79'], 'render_lines': False, 'line_style': '-'}, 'zoom_one': 1.0, 'markers': {'marker_face_colour': ['#00007f', '#7cff79'], 'marker_edge_colour': ['#00007f', '#7cff79'], 'render_markers': True, 'marker_edge_width': 1, 'marker_size': 5, 'marker_style': 'o'}, 'numbering': {'numbers_font_weight': 'normal', 'numbers_font_size': 10, 'numbers_font_style': 'normal', 'numbers_horizontal_align': 'center', 'numbers_font_name': 'sans-serif', 'numbers_font_colour': 'black', 'numbers_vertical_align': 'bottom', 'render_numbering': False}, 'axes': {'axes_y_limits': None, 'axes_font_style': 'normal', 'axes_font_size': 10, 'axes_y_ticks': None, 'render_axes': False, 'axes_font_name': 'sans-serif', 'axes_font_weight': 'normal', 'axes_x_ticks': None, 'axes_x_limits': None}}\n",
      "marker face colour: red, line colour: #00007f, zoom: 1.0                        "
     ]
    }
   ],
   "source": [
    "rend_wid = RendererOptionsWidget(options_tabs, labels,\n",
    "                                 render_function=render_function, style='info', tabs_style='warning')\n",
    "rend_wid"
   ]
  },
  {
   "cell_type": "markdown",
   "metadata": {},
   "source": [
    "The `selected_values` dictionary has the following keys:"
   ]
  },
  {
   "cell_type": "code",
   "execution_count": 24,
   "metadata": {
    "collapsed": false
   },
   "outputs": [
    {
     "name": "stdout",
     "output_type": "stream",
     "text": [
      "dict_keys(['lines', 'zoom_one', 'markers', 'numbering', 'axes'])\n"
     ]
    }
   ],
   "source": [
    "print(rend_wid.selected_values.keys())"
   ]
  },
  {
   "cell_type": "markdown",
   "metadata": {},
   "source": [
    "and there is a `dict` with options that corresponds to each key. Additionally, in case there are more than one `labels`, the user can define a different colour per label (`marker_face_colour`, `marker_edge_colour` and `line_colour`) which are returned in a list. The rest of the options are common for all labels.\n",
    "\n",
    "The render function can be easily replaced as:"
   ]
  },
  {
   "cell_type": "code",
   "execution_count": 25,
   "metadata": {
    "collapsed": true
   },
   "outputs": [],
   "source": [
    "def render_function(change):\n",
    "    print_dynamic(\"marker face colour: {}, line colour: {}, zoom: {:.1f}\".format(\n",
    "        rend_wid.selected_values['markers']['marker_face_colour'][0], \n",
    "        rend_wid.selected_values['lines']['line_colour'][0], rend_wid.selected_values['zoom_one']))\n",
    "\n",
    "rend_wid.replace_render_function(render_function)"
   ]
  },
  {
   "cell_type": "markdown",
   "metadata": {},
   "source": [
    "Finally, the state of the widget can be updated with a new object as follows:"
   ]
  },
  {
   "cell_type": "code",
   "execution_count": 26,
   "metadata": {
    "collapsed": false
   },
   "outputs": [
    {
     "name": "stdout",
     "output_type": "stream",
     "text": [
      "\r",
      "marker face colour: red, line colour: red, zoom: 1.0                            "
     ]
    }
   ],
   "source": [
    "rend_wid.set_widget_state(labels=None, allow_callback=True)"
   ]
  },
  {
   "cell_type": "markdown",
   "metadata": {},
   "source": [
    "## <a name=\"sec:plot\"></a>8. Plot Options\n",
    "The aim of this widget is to allow the user to select options related with plotting a graph with various curves. It can accomodate options for different curves that are related to markers and lines. It also has options regarding the legend, axes, grid, zoom and figure properties.\n",
    "\n",
    "The concept behind this widget is very similar to [`RendererOptionsWidget`](#sec:renderer). The two main differences are:\n",
    "1. The subwidgets are not selected; they are predefined.\n",
    "2. In case there are more than one curves, the user can select different line (`line_colour`, `line_style`, `line_width`) and marker (`makrer_face_colour`, `marker_edge_colour`, `marker_size`, `marker_style`, `marker_edge_width`) options per curve; not only differeny colours as in the case of [`RendererOptionsWidget`](#sec:renderer).\n",
    "\n",
    "Let's define a rendering function that prints the `marker_face_colour` and `line_width` and create the widget assuming that we have two curves:"
   ]
  },
  {
   "cell_type": "code",
   "execution_count": 27,
   "metadata": {
    "collapsed": false
   },
   "outputs": [
    {
     "name": "stdout",
     "output_type": "stream",
     "text": [
      "\r",
      "Marker face colour: ['white', 'white'], Line width: [10.0, 1]                   "
     ]
    }
   ],
   "source": [
    "def render_function(change):\n",
    "    s = \"Marker face colour: {}, Line width: {}\".format(\n",
    "        plot_wid.selected_values['marker_face_colour'],\n",
    "        plot_wid.selected_values['line_width'])\n",
    "    print_dynamic(s)\n",
    "\n",
    "plot_wid = PlotOptionsWidget(legend_entries=['menpo', 'project'], render_function=render_function, \n",
    "                             style='danger', tabs_style='info')\n",
    "plot_wid"
   ]
  },
  {
   "cell_type": "markdown",
   "metadata": {},
   "source": [
    "## <a name=\"sec:parameters\"></a>9. Linear Model Parameters\n",
    "\n",
    "The aim of this widget is to tweak the parameters of a linear model to generate new instances. The user can select the number of parameters (`n_parameters`) and between two possible `mode` options:\n",
    "* `'multiple'`: In this case there will be a different slider per parameter.\n",
    "* `'single'`: In this case there will be a single slider and a dropdown menu to select the parameter we wish to change.\n",
    "\n",
    "Also, the widget is able to animate itself, by linearly changing the value of each parameter from zero to minimum to maximum and then back to zero. The functionality of each button is as follows:\n",
    "> <i class=\"fa fa-play\"></i>  Start the animation playback.<br>\n",
    "  <i class=\"fa fa-stop\"></i>  Stop the animation playback.<br>\n",
    "  <i class=\"fa fa-fast-forward\"></i>  Increase the animation's speed.<br>\n",
    "  <i class=\"fa fa-fast-backward\"></i>  Decrease the animation's speed.<br>\n",
    "  <i class=\"fa fa-repeat\"></i>  Repeat mode is enabled.<br>\n",
    "  <i class=\"fa fa-long-arrow-right\"></i>  Repeat mode is disabled.<br>\n",
    "  _Reset_  Reset the values of all parameters to ``0``.<br>\n",
    "  _Variance_  Plot the variance of the model.\n",
    "  \n",
    "Let's define a render function that prints the selected parameter values, a toy variance plotting function and create an instance of the widget:"
   ]
  },
  {
   "cell_type": "code",
   "execution_count": 28,
   "metadata": {
    "collapsed": false
   },
   "outputs": [
    {
     "name": "stdout",
     "output_type": "stream",
     "text": [
      "Selected parameters: [4.9, -5.3, 3.6, -2.7, 2.0, 6.5, -8.8, -5.0, -1.6, 8.6]    "
     ]
    }
   ],
   "source": [
    "def render_function(change):\n",
    "    print_dynamic(\"Selected parameters: {}\".format(change['new']))\n",
    "\n",
    "def variance_function(name):\n",
    "    print_dynamic('PLOT VARIANCE')\n",
    "    \n",
    "param_wid = LinearModelParametersWidget(n_parameters=5, render_function=render_function,\n",
    "                                        params_str='Parameter ', mode='multiple',\n",
    "                                        params_bounds=(-3., 3.), plot_variance_visible=True, \n",
    "                                        plot_variance_function=variance_function, style='info')\n",
    "param_wid"
   ]
  },
  {
   "cell_type": "markdown",
   "metadata": {},
   "source": [
    "Note that the visibility of the animation buttons and the variance button can be controlled by the `animation_visible` and `plot_variance_visible` arguments, respectively.\n",
    "\n",
    "Let's now update the state of the widget:"
   ]
  },
  {
   "cell_type": "code",
   "execution_count": 29,
   "metadata": {
    "collapsed": false
   },
   "outputs": [],
   "source": [
    "param_wid.set_widget_state(n_parameters=10, params_str='', params_step=0.1, params_bounds=(-10, 10),\n",
    "                           plot_variance_visible=False, allow_callback=False)"
   ]
  },
  {
   "cell_type": "markdown",
   "metadata": {},
   "source": [
    "Finally, let's create an instance of the widget with a single slider (`mode = 'single'`)."
   ]
  },
  {
   "cell_type": "code",
   "execution_count": 30,
   "metadata": {
    "collapsed": false
   },
   "outputs": [
    {
     "name": "stdout",
     "output_type": "stream",
     "text": [
      "Selected parameters: [-2.5, 0.0, 0.0, 0.0, 0.0, 0.0, -2.7, 0.0, 2.8, 0.0, 0.0, 0.0, 0.0, 0.0, 0.0]"
     ]
    }
   ],
   "source": [
    "param_wid = LinearModelParametersWidget(n_parameters=15, render_function=render_function,\n",
    "                                        mode='single', plot_variance_function=variance_function, \n",
    "                                        style='warning')\n",
    "param_wid"
   ]
  },
  {
   "cell_type": "markdown",
   "metadata": {},
   "source": [
    "## <a name=\"sec:result\"></a>10. Result Options\n",
    "\n",
    "The aim of this widget is to provide options for visualising a `menpofit.result.Result` object. This means that the user can render the final fitting, initial shape as well as ground truth shape with or without the image. These shapes can be viewed either on separate or on the same figure. Note that the widget is \"smart\" enough to adjust in case there is not an initial shape, ground truth shape or image in the `Result` object.\n",
    "\n",
    "Let's create a rendering function and a widget instance:"
   ]
  },
  {
   "cell_type": "code",
   "execution_count": 31,
   "metadata": {
    "collapsed": false
   },
   "outputs": [
    {
     "name": "stdout",
     "output_type": "stream",
     "text": [
      "\r",
      "Final: True, Initial: True, GT: False, Image: True, Subplots: True              "
     ]
    }
   ],
   "source": [
    "def render_function(change):\n",
    "    print_dynamic(\"Final: {}, Initial: {}, GT: {}, Image: {}, Subplots: {}\".format(\n",
    "            res_wid.selected_values['render_final_shape'],\n",
    "            res_wid.selected_values['render_initial_shape'],\n",
    "            res_wid.selected_values['render_gt_shape'],\n",
    "            res_wid.selected_values['render_image'],\n",
    "            res_wid.selected_values['subplots_enabled']))\n",
    "\n",
    "res_wid = ResultOptionsWidget(has_gt_shape=True, has_initial_shape=True, has_image=True, \n",
    "                              render_function=render_function, style='info')\n",
    "res_wid"
   ]
  },
  {
   "cell_type": "markdown",
   "metadata": {},
   "source": [
    "Now, let's update the widget state with a new `Result` object that does not have the initial shape and the image object:"
   ]
  },
  {
   "cell_type": "code",
   "execution_count": 32,
   "metadata": {
    "collapsed": false
   },
   "outputs": [
    {
     "name": "stdout",
     "output_type": "stream",
     "text": [
      "Final: True, Initial: False, GT: False, Image: False, Subplots: True            "
     ]
    }
   ],
   "source": [
    "res_wid.set_widget_state(has_gt_shape=True, has_initial_shape=False, has_image=False, allow_callback=True)"
   ]
  },
  {
   "cell_type": "markdown",
   "metadata": {},
   "source": [
    "## <a name=\"sec:iterative_result\"></a>11. Iterative Result Options\n",
    "\n",
    "This widget is a more advanced version of [`ResultOptionsWidget`](<a name=\"sec:result\">). It provides options for both a simple result object (i.e. `Result` in `menpofit.result`) as well as an iterative result object (i.e. `MultiScaleParametricIterativeResult` and `MultiScaleNonParametricIterativeResult`).\n",
    "\n",
    "It has two tabs:\n",
    "* `Final`: It has the same functionalities as [`ResultOptionsWidget`](<a name=\"sec:result\">). Its purpose is to visualise the final result of the fitting procedure.\n",
    "* `Iterations`: This visualises the iterations of the fitting procedure either as an animation or in static figures.\n",
    "\n",
    "Moreover, the widget has a `tab_update_function` argument that expects a function that gets called when the tab selection changes. The purpose is to update a potential rendering options widget, because not the same options apply for visualising the final result and the iterations of a fitting process.\n",
    "\n",
    "Let's create an instance of the widget:"
   ]
  },
  {
   "cell_type": "code",
   "execution_count": 33,
   "metadata": {
    "collapsed": false
   },
   "outputs": [
    {
     "name": "stdout",
     "output_type": "stream",
     "text": [
      "Update\n",
      "{'render_image': True, 'subplots_enabled': True, 'iters': 0}\n",
      "{'render_image': True, 'subplots_enabled': True, 'iters': 2}\n",
      "Update\n",
      "{'render_image': True, 'render_initial_shape': False, 'render_final_shape': True, 'subplots_enabled': True, 'render_gt_shape': False}\n",
      "{'render_image': True, 'render_initial_shape': True, 'render_final_shape': True, 'subplots_enabled': True, 'render_gt_shape': False}\n",
      "Update\n",
      "{'render_image': True, 'subplots_enabled': True, 'iters': 2}\n",
      "Costs                                                                           Update\n",
      "{'render_image': True, 'render_initial_shape': False, 'render_final_shape': False, 'subplots_enabled': True, 'render_gt_shape': False}\n"
     ]
    }
   ],
   "source": [
    "def plot_function(name):\n",
    "    print_dynamic(name.description)\n",
    "\n",
    "def render_function(change):\n",
    "    print(res_wid.selected_values)\n",
    "    \n",
    "def update(change):\n",
    "    print('Update')\n",
    "\n",
    "res_wid = IterativeResultOptionsWidget(has_gt_shape=True, has_initial_shape=True, has_image=True, n_shapes=10, \n",
    "                                       render_function=render_function, tab_update_function=update, \n",
    "                                       style='info', tabs_style='danger',\n",
    "                                       displacements_function=plot_function, errors_function=plot_function, \n",
    "                                       costs_function=plot_function)\n",
    "res_wid"
   ]
  },
  {
   "cell_type": "markdown",
   "metadata": {},
   "source": [
    "Let's now update the state of the widget with a `Result` object that has no iterations. Note that the _Iterations_ tab is now empty."
   ]
  },
  {
   "cell_type": "code",
   "execution_count": 34,
   "metadata": {
    "collapsed": false
   },
   "outputs": [
    {
     "name": "stdout",
     "output_type": "stream",
     "text": [
      "{'render_image': True, 'render_initial_shape': False, 'render_final_shape': True, 'subplots_enabled': True, 'render_gt_shape': False}\n"
     ]
    }
   ],
   "source": [
    "res_wid.set_widget_state(has_gt_shape=False, has_initial_shape=False, has_image=True, n_shapes=None, \n",
    "                         allow_callback=True)"
   ]
  },
  {
   "cell_type": "markdown",
   "metadata": {},
   "source": [
    "## <a name=\"sec:text\"></a>12. Text Print\n",
    "\n",
    "The aim of this widget is to allow the user to print text within the widget area. For example:"
   ]
  },
  {
   "cell_type": "code",
   "execution_count": 35,
   "metadata": {
    "collapsed": false
   },
   "outputs": [],
   "source": [
    "text_per_line = ['> This is the', '> Text Print widget!', '> :-)']\n",
    "\n",
    "txt_wid = TextPrintWidget(text_per_line, style='danger')\n",
    "txt_wid"
   ]
  },
  {
   "cell_type": "markdown",
   "metadata": {},
   "source": [
    "Of course the widget text can be updated as:"
   ]
  },
  {
   "cell_type": "code",
   "execution_count": 36,
   "metadata": {
    "collapsed": false
   },
   "outputs": [],
   "source": [
    "txt_wid.set_widget_state(['M', 'E', 'N', 'P', 'O'])"
   ]
  },
  {
   "cell_type": "markdown",
   "metadata": {},
   "source": [
    "## <a name=\"sec:features\"></a>13. Feature Options\n",
    "\n",
    "This widget is very simple and is designed to be used by the `features_selection()` widget. It doesn't get any input options."
   ]
  },
  {
   "cell_type": "code",
   "execution_count": 37,
   "metadata": {
    "collapsed": true
   },
   "outputs": [],
   "source": [
    "feat_wid = FeatureOptionsWidget(style='danger')\n",
    "feat_wid"
   ]
  },
  {
   "cell_type": "markdown",
   "metadata": {},
   "source": [
    "The actaul features function and options are stored in"
   ]
  },
  {
   "cell_type": "code",
   "execution_count": 38,
   "metadata": {
    "collapsed": false
   },
   "outputs": [
    {
     "name": "stdout",
     "output_type": "stream",
     "text": [
      "<function no_op at 0x7f2ea3606158>\n",
      "{}\n"
     ]
    }
   ],
   "source": [
    "print(feat_wid.features_function)\n",
    "print(feat_wid.features_options)"
   ]
  },
  {
   "cell_type": "markdown",
   "metadata": {},
   "source": [
    "## <a name=\"sec:save\"></a>14. Save Figure Options\n",
    "\n",
    "The aim of this widget is to allow the user to save a figure to file. It expects as input the renderer object that was used to render a figure (class `Renderer`).\n",
    "\n",
    "Let's first generate such a renderer by visualizing an image"
   ]
  },
  {
   "cell_type": "code",
   "execution_count": 39,
   "metadata": {
    "collapsed": false
   },
   "outputs": [
    {
     "data": {
      "image/png": "[encoded data removed]",
      "text/plain": [
       "<matplotlib.figure.Figure at 0x7f2e961d6358>"
      ]
     },
     "metadata": {},
     "output_type": "display_data"
    }
   ],
   "source": [
    "%matplotlib inline\n",
    "import menpo.io as mio\n",
    "\n",
    "im = mio.import_builtin_asset.lenna_png()\n",
    "renderer = im.view_landmarks(figure_size=(6, 4))"
   ]
  },
  {
   "cell_type": "markdown",
   "metadata": {},
   "source": [
    "Then the widget can be called as"
   ]
  },
  {
   "cell_type": "code",
   "execution_count": 40,
   "metadata": {
    "collapsed": false
   },
   "outputs": [],
   "source": [
    "save_wid = SaveFigureOptionsWidget(renderer, style='warning')\n",
    "save_wid"
   ]
  },
  {
   "cell_type": "markdown",
   "metadata": {
    "collapsed": true
   },
   "source": [
    "Of course, this widget can be used as is in order to save any generated visualization."
   ]
  }
 ],
 "metadata": {
  "kernelspec": {
   "display_name": "Python 3",
   "language": "python",
   "name": "python3"
  },
  "language_info": {
   "codemirror_mode": {
    "name": "ipython",
    "version": 3
   },
   "file_extension": ".py",
   "mimetype": "text/x-python",
   "name": "python",
   "nbconvert_exporter": "python",
   "pygments_lexer": "ipython3",
   "version": "3.4.4"
  }
 },
 "nbformat": 4,
 "nbformat_minor": 0
}
